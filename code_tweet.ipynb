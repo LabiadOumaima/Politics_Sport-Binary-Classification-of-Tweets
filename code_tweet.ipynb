{
 "cells": [
  {
   "cell_type": "code",
   "execution_count": 7,
   "metadata": {},
   "outputs": [],
   "source": [
    "import numpy as np \n",
    "import pandas as pd \n"
   ]
  },
  {
   "cell_type": "code",
   "execution_count": 8,
   "metadata": {},
   "outputs": [],
   "source": [
    "from sklearn.feature_extraction.text import CountVectorizer\n",
    "from sklearn.feature_extraction.text import TfidfTransformer\n",
    "from sklearn.naive_bayes import MultinomialNB\n",
    "from sklearn.linear_model import LogisticRegression\n",
    "from sklearn.ensemble import RandomForestClassifier\n",
    "from sklearn.ensemble import GradientBoostingClassifier\n",
    "import lightgbm as lgb\n",
    "from sklearn.neighbors import KNeighborsClassifier\n",
    "from sklearn.linear_model import Perceptron\n",
    "from sklearn.linear_model import RidgeClassifier\n",
    "from sklearn.ensemble import AdaBoostClassifier\n",
    "from catboost import CatBoostClassifier\n",
    "from sklearn.svm import SVC\n",
    "from sklearn.tree import DecisionTreeClassifier\n",
    "\n",
    "from sklearn.model_selection import train_test_split\n",
    "from sklearn.model_selection import StratifiedShuffleSplit\n",
    "import re\n",
    "from imblearn.over_sampling import SMOTE\n",
    "from sklearn.metrics import roc_auc_score \n",
    "import seaborn as sns\n",
    "import matplotlib.pyplot as plt\n",
    "\n",
    "from warnings import filterwarnings\n",
    "from sklearn.model_selection import cross_validate\n",
    "\n",
    "from sklearn.pipeline import Pipeline"
   ]
  },
  {
   "cell_type": "code",
   "execution_count": 9,
   "metadata": {},
   "outputs": [],
   "source": [
    "#import dataset \n",
    "train_df = pd.read_csv(\"C:/Users/labiad/Downloads/train.csv\")\n",
    "test_df = pd.read_csv(\"C:/Users/labiad/Downloads/test.csv\")\n"
   ]
  },
  {
   "cell_type": "code",
   "execution_count": 10,
   "metadata": {},
   "outputs": [
    {
     "name": "stdout",
     "output_type": "stream",
     "text": [
      "There are 6525 observations and 3 features in this dataset\n"
     ]
    }
   ],
   "source": [
    "print(\"There are {} observations and {} features in this dataset\".format(train_df.shape[0],train_df.shape[1]))"
   ]
  },
  {
   "cell_type": "code",
   "execution_count": 11,
   "metadata": {},
   "outputs": [
    {
     "data": {
      "text/html": [
       "<div>\n",
       "<style scoped>\n",
       "    .dataframe tbody tr th:only-of-type {\n",
       "        vertical-align: middle;\n",
       "    }\n",
       "\n",
       "    .dataframe tbody tr th {\n",
       "        vertical-align: top;\n",
       "    }\n",
       "\n",
       "    .dataframe thead th {\n",
       "        text-align: right;\n",
       "    }\n",
       "</style>\n",
       "<table border=\"1\" class=\"dataframe\">\n",
       "  <thead>\n",
       "    <tr style=\"text-align: right;\">\n",
       "      <th></th>\n",
       "      <th>TweetId</th>\n",
       "      <th>Label</th>\n",
       "      <th>TweetText</th>\n",
       "    </tr>\n",
       "  </thead>\n",
       "  <tbody>\n",
       "    <tr>\n",
       "      <th>0</th>\n",
       "      <td>304271250237304833</td>\n",
       "      <td>Politics</td>\n",
       "      <td>'#SecKerry: The value of the @StateDept and @U...</td>\n",
       "    </tr>\n",
       "    <tr>\n",
       "      <th>1</th>\n",
       "      <td>304834304222064640</td>\n",
       "      <td>Politics</td>\n",
       "      <td>'@rraina1481 I fear so'</td>\n",
       "    </tr>\n",
       "    <tr>\n",
       "      <th>2</th>\n",
       "      <td>303568995880144898</td>\n",
       "      <td>Sports</td>\n",
       "      <td>'Watch video highlights of the #wwc13 final be...</td>\n",
       "    </tr>\n",
       "    <tr>\n",
       "      <th>3</th>\n",
       "      <td>304366580664528896</td>\n",
       "      <td>Sports</td>\n",
       "      <td>'RT @chelscanlan: At Nitro Circus at #AlbertPa...</td>\n",
       "    </tr>\n",
       "    <tr>\n",
       "      <th>4</th>\n",
       "      <td>296770931098009601</td>\n",
       "      <td>Sports</td>\n",
       "      <td>'@cricketfox Always a good thing. Thanks for t...</td>\n",
       "    </tr>\n",
       "  </tbody>\n",
       "</table>\n",
       "</div>"
      ],
      "text/plain": [
       "              TweetId     Label  \\\n",
       "0  304271250237304833  Politics   \n",
       "1  304834304222064640  Politics   \n",
       "2  303568995880144898    Sports   \n",
       "3  304366580664528896    Sports   \n",
       "4  296770931098009601    Sports   \n",
       "\n",
       "                                           TweetText  \n",
       "0  '#SecKerry: The value of the @StateDept and @U...  \n",
       "1                            '@rraina1481 I fear so'  \n",
       "2  'Watch video highlights of the #wwc13 final be...  \n",
       "3  'RT @chelscanlan: At Nitro Circus at #AlbertPa...  \n",
       "4  '@cricketfox Always a good thing. Thanks for t...  "
      ]
     },
     "execution_count": 11,
     "metadata": {},
     "output_type": "execute_result"
    }
   ],
   "source": [
    "train_df.head()"
   ]
  },
  {
   "cell_type": "code",
   "execution_count": 12,
   "metadata": {},
   "outputs": [
    {
     "data": {
      "text/html": [
       "<div>\n",
       "<style scoped>\n",
       "    .dataframe tbody tr th:only-of-type {\n",
       "        vertical-align: middle;\n",
       "    }\n",
       "\n",
       "    .dataframe tbody tr th {\n",
       "        vertical-align: top;\n",
       "    }\n",
       "\n",
       "    .dataframe thead th {\n",
       "        text-align: right;\n",
       "    }\n",
       "</style>\n",
       "<table border=\"1\" class=\"dataframe\">\n",
       "  <thead>\n",
       "    <tr style=\"text-align: right;\">\n",
       "      <th></th>\n",
       "      <th>TweetId</th>\n",
       "      <th>TweetText</th>\n",
       "    </tr>\n",
       "  </thead>\n",
       "  <tbody>\n",
       "    <tr>\n",
       "      <th>0</th>\n",
       "      <td>306486520121012224</td>\n",
       "      <td>'28. The home side threaten again through Maso...</td>\n",
       "    </tr>\n",
       "    <tr>\n",
       "      <th>1</th>\n",
       "      <td>286353402605228032</td>\n",
       "      <td>'@mrbrown @aulia Thx for asking. See http://t....</td>\n",
       "    </tr>\n",
       "    <tr>\n",
       "      <th>2</th>\n",
       "      <td>289531046037438464</td>\n",
       "      <td>'@Sochi2014 construction along the shores of t...</td>\n",
       "    </tr>\n",
       "    <tr>\n",
       "      <th>3</th>\n",
       "      <td>306451661403062273</td>\n",
       "      <td>'#SecKerry\\u2019s remarks after meeting with F...</td>\n",
       "    </tr>\n",
       "    <tr>\n",
       "      <th>4</th>\n",
       "      <td>297941800658812928</td>\n",
       "      <td>'The #IPLauction has begun. Ricky Ponting is t...</td>\n",
       "    </tr>\n",
       "  </tbody>\n",
       "</table>\n",
       "</div>"
      ],
      "text/plain": [
       "              TweetId                                          TweetText\n",
       "0  306486520121012224  '28. The home side threaten again through Maso...\n",
       "1  286353402605228032  '@mrbrown @aulia Thx for asking. See http://t....\n",
       "2  289531046037438464  '@Sochi2014 construction along the shores of t...\n",
       "3  306451661403062273  '#SecKerry\\u2019s remarks after meeting with F...\n",
       "4  297941800658812928  'The #IPLauction has begun. Ricky Ponting is t..."
      ]
     },
     "execution_count": 12,
     "metadata": {},
     "output_type": "execute_result"
    }
   ],
   "source": [
    "test_df.head()"
   ]
  },
  {
   "cell_type": "code",
   "execution_count": 13,
   "metadata": {},
   "outputs": [
    {
     "data": {
      "text/plain": [
       "0       '#SecKerry: The value of the @StateDept and @U...\n",
       "1                                 '@rraina1481 I fear so'\n",
       "2       'Watch video highlights of the #wwc13 final be...\n",
       "3       'RT @chelscanlan: At Nitro Circus at #AlbertPa...\n",
       "4       '@cricketfox Always a good thing. Thanks for t...\n",
       "                              ...                        \n",
       "6520    'Photo: PM has laid a wreath at Martyrs Monume...\n",
       "6521    'The secret of the Chennai pitch - crumbling o...\n",
       "6522              @alinabhutto he isn't on Twitter either\n",
       "6523    'Which England player would you take out to di...\n",
       "6524    'Dmitry #Medvedev expressed condolences to the...\n",
       "Name: TweetText, Length: 6525, dtype: object"
      ]
     },
     "execution_count": 13,
     "metadata": {},
     "output_type": "execute_result"
    }
   ],
   "source": [
    "train_df[\"TweetText\"]"
   ]
  },
  {
   "cell_type": "code",
   "execution_count": 14,
   "metadata": {},
   "outputs": [],
   "source": [
    "#Text Cleaning\n",
    "def cleaned(text):\n",
    "    text = re.sub(r\"\\n\",\"\",text)\n",
    "    text = text.lower()\n",
    "    text = re.sub(r\"\\d\",\"\",text)        #Remove digits\n",
    "    text = re.sub(r'[^\\x00-\\x7f]',r' ',text) # remove non-ascii\n",
    "    text = re.sub(r'[^\\w\\s]','',text) #Remove punctuation\n",
    "    text = re.sub(r'http\\S+|www.\\S+', '', text) #Remove http\n",
    "    return text\n",
    "\n",
    "train_df['cleaned'] = train_df['TweetText'].apply(lambda x : cleaned(x))"
   ]
  },
  {
   "cell_type": "code",
   "execution_count": 15,
   "metadata": {},
   "outputs": [
    {
     "data": {
      "text/plain": [
       "0"
      ]
     },
     "execution_count": 15,
     "metadata": {},
     "output_type": "execute_result"
    }
   ],
   "source": [
    "#Duplicated values\n",
    "np.sum(train_df.duplicated())"
   ]
  },
  {
   "cell_type": "code",
   "execution_count": 16,
   "metadata": {},
   "outputs": [
    {
     "data": {
      "text/plain": [
       "Sports      3325\n",
       "Politics    3200\n",
       "Name: Label, dtype: int64"
      ]
     },
     "execution_count": 16,
     "metadata": {},
     "output_type": "execute_result"
    }
   ],
   "source": [
    "train_df.Label.value_counts()"
   ]
  },
  {
   "cell_type": "code",
   "execution_count": 17,
   "metadata": {},
   "outputs": [],
   "source": [
    "#encoding feature label\n",
    "cleanup_nums = {\"Label\":     {\"Politics\": 0, \"Sports\": 1}}\n",
    "train = train_df.replace(cleanup_nums)\n"
   ]
  },
  {
   "cell_type": "code",
   "execution_count": 18,
   "metadata": {},
   "outputs": [
    {
     "data": {
      "text/html": [
       "<div>\n",
       "<style scoped>\n",
       "    .dataframe tbody tr th:only-of-type {\n",
       "        vertical-align: middle;\n",
       "    }\n",
       "\n",
       "    .dataframe tbody tr th {\n",
       "        vertical-align: top;\n",
       "    }\n",
       "\n",
       "    .dataframe thead th {\n",
       "        text-align: right;\n",
       "    }\n",
       "</style>\n",
       "<table border=\"1\" class=\"dataframe\">\n",
       "  <thead>\n",
       "    <tr style=\"text-align: right;\">\n",
       "      <th></th>\n",
       "      <th>TweetId</th>\n",
       "      <th>Label</th>\n",
       "      <th>TweetText</th>\n",
       "      <th>cleaned</th>\n",
       "    </tr>\n",
       "  </thead>\n",
       "  <tbody>\n",
       "    <tr>\n",
       "      <th>0</th>\n",
       "      <td>304271250237304833</td>\n",
       "      <td>0</td>\n",
       "      <td>'#SecKerry: The value of the @StateDept and @U...</td>\n",
       "      <td>seckerry the value of the statedept and usaid ...</td>\n",
       "    </tr>\n",
       "    <tr>\n",
       "      <th>1</th>\n",
       "      <td>304834304222064640</td>\n",
       "      <td>0</td>\n",
       "      <td>'@rraina1481 I fear so'</td>\n",
       "      <td>rraina i fear so</td>\n",
       "    </tr>\n",
       "    <tr>\n",
       "      <th>2</th>\n",
       "      <td>303568995880144898</td>\n",
       "      <td>1</td>\n",
       "      <td>'Watch video highlights of the #wwc13 final be...</td>\n",
       "      <td>watch video highlights of the wwc final betwee...</td>\n",
       "    </tr>\n",
       "    <tr>\n",
       "      <th>3</th>\n",
       "      <td>304366580664528896</td>\n",
       "      <td>1</td>\n",
       "      <td>'RT @chelscanlan: At Nitro Circus at #AlbertPa...</td>\n",
       "      <td>rt chelscanlan at nitro circus at albertpark  ...</td>\n",
       "    </tr>\n",
       "    <tr>\n",
       "      <th>4</th>\n",
       "      <td>296770931098009601</td>\n",
       "      <td>1</td>\n",
       "      <td>'@cricketfox Always a good thing. Thanks for t...</td>\n",
       "      <td>cricketfox always a good thing thanks for the ...</td>\n",
       "    </tr>\n",
       "  </tbody>\n",
       "</table>\n",
       "</div>"
      ],
      "text/plain": [
       "              TweetId  Label  \\\n",
       "0  304271250237304833      0   \n",
       "1  304834304222064640      0   \n",
       "2  303568995880144898      1   \n",
       "3  304366580664528896      1   \n",
       "4  296770931098009601      1   \n",
       "\n",
       "                                           TweetText  \\\n",
       "0  '#SecKerry: The value of the @StateDept and @U...   \n",
       "1                            '@rraina1481 I fear so'   \n",
       "2  'Watch video highlights of the #wwc13 final be...   \n",
       "3  'RT @chelscanlan: At Nitro Circus at #AlbertPa...   \n",
       "4  '@cricketfox Always a good thing. Thanks for t...   \n",
       "\n",
       "                                             cleaned  \n",
       "0  seckerry the value of the statedept and usaid ...  \n",
       "1                                   rraina i fear so  \n",
       "2  watch video highlights of the wwc final betwee...  \n",
       "3  rt chelscanlan at nitro circus at albertpark  ...  \n",
       "4  cricketfox always a good thing thanks for the ...  "
      ]
     },
     "execution_count": 18,
     "metadata": {},
     "output_type": "execute_result"
    }
   ],
   "source": [
    "train.head()"
   ]
  },
  {
   "cell_type": "code",
   "execution_count": 19,
   "metadata": {},
   "outputs": [
    {
     "data": {
      "text/plain": [
       "TweetId      0\n",
       "Label        0\n",
       "TweetText    0\n",
       "cleaned      0\n",
       "dtype: int64"
      ]
     },
     "execution_count": 19,
     "metadata": {},
     "output_type": "execute_result"
    }
   ],
   "source": [
    "#missing values\n",
    "np.sum(train_df.isna())"
   ]
  },
  {
   "cell_type": "code",
   "execution_count": 20,
   "metadata": {},
   "outputs": [
    {
     "data": {
      "image/png": "[encoded data removed]",
      "text/plain": [
       "<Figure size 180x360 with 1 Axes>"
      ]
     },
     "metadata": {
      "needs_background": "light"
     },
     "output_type": "display_data"
    }
   ],
   "source": [
    "# data visualization \n",
    "plt.figure(figsize=(2.5,5))\n",
    "plt.title(\"Distribution in Train dataset\")\n",
    "p1 = sns.countplot(x=train_df[\"Label\"], data=train_df, palette = 'plasma')\n",
    "for p in p1.patches:\n",
    "        p1.annotate('{:6.2f}%'.format(p.get_height()/len(train_df)*100), (p.get_x()+0.1, p.get_height()+50))\n",
    "        \n",
    "plt.show()"
   ]
  },
  {
   "cell_type": "code",
   "execution_count": 21,
   "metadata": {},
   "outputs": [
    {
     "name": "stdout",
     "output_type": "stream",
     "text": [
      "TRAIN: [2876 1388 3938 ... 5461 1325 6221] TEST: [5445 6119 5676 ... 6246 6244 3611]\n"
     ]
    }
   ],
   "source": [
    "#sample stratification\n",
    "sss = StratifiedShuffleSplit(n_splits=1, test_size=0.2, random_state=42)\n",
    "\n",
    "X = train['cleaned'].to_numpy()\n",
    "y = train['Label'].to_numpy()\n",
    "for train_index, test_index in sss.split(X, y):\n",
    "    print(\"TRAIN:\", train_index, \"TEST:\", test_index)\n",
    "    #X_train = X.loc[train_index]\n",
    "    X_train, X_test = X[train_index], X[test_index]\n",
    "\n",
    "    y_train, y_test = y[train_index], y[test_index]"
   ]
  },
  {
   "cell_type": "code",
   "execution_count": 22,
   "metadata": {},
   "outputs": [],
   "source": [
    "#function pipeline\n",
    "tweets_pipeline = Pipeline([('CVec', CountVectorizer(stop_words='english')),\n",
    "                     ('Tfidf', TfidfTransformer())])\n",
    "\n",
    "X_train_tranformed = tweets_pipeline.fit_transform(X_train)\n",
    "\n",
    "X_test_tranformed = tweets_pipeline.transform(X_test)"
   ]
  },
  {
   "cell_type": "code",
   "execution_count": 23,
   "metadata": {},
   "outputs": [],
   "source": [
    "#Classifiers : Supervised Machine Learning Algorithms\n",
    "classifiers = {\n",
    "    \"Logistic Regression\": LogisticRegression(class_weight='balanced'),\n",
    "    \"Decision Tree\": DecisionTreeClassifier(class_weight='balanced'),\n",
    "    \"k-Nearest Neighbors\": KNeighborsClassifier(),\n",
    "    \"Linear SVM\": SVC(class_weight='balanced'),\n",
    "    \"Gradient Boosting Classifier\": GradientBoostingClassifier(),\n",
    "    \"Random Forest\": RandomForestClassifier(),\n",
    "    'RidgeClassifier': RidgeClassifier(class_weight='balanced'),\n",
    "    'AdaBoost': AdaBoostClassifier(n_estimators=100),\n",
    "    'MNB': MultinomialNB(),\n",
    "    'Perceptron': Perceptron(class_weight='balanced'),\n",
    "    'catboost': CatBoostClassifier(verbose=0)\n",
    "        \n",
    "}"
   ]
  },
  {
   "cell_type": "code",
   "execution_count": 24,
   "metadata": {},
   "outputs": [],
   "source": [
    "#Model Evaluation\n",
    "no_classifiers = len(classifiers.keys())\n",
    "\n",
    "from time import process_time \n",
    "\n",
    "#Results\n",
    "def batch_classify(X_train_tranformed, y_train, X_test_tranformed, y_test, verbose = True):\n",
    "    df_results = pd.DataFrame(data=np.zeros(shape=(no_classifiers,3)), columns = ['Classifier', 'Area Under Curve', 'Training time'])\n",
    "    count = 0\n",
    "    for key, classifier in classifiers.items():\n",
    "        t_start = process_time()  \n",
    "        classifier.fit(X_train_tranformed, y_train)\n",
    "        t_stop = process_time() \n",
    "        t_elapsed = t_stop - t_start\n",
    "        y_predicted = classifier.predict(X_test_tranformed)\n",
    "        \n",
    "        df_results.loc[count,'Classifier'] = key\n",
    "        df_results.loc[count,'Area Under Curve'] = roc_auc_score(y_test, y_predicted)\n",
    "        df_results.loc[count,'Training time'] = t_elapsed\n",
    "        if verbose:\n",
    "            print(\"trained {c} in {f:.2f} s\".format(c=key, f=t_elapsed))\n",
    "        count+=1\n",
    "\n",
    "    return df_results\n"
   ]
  },
  {
   "cell_type": "code",
   "execution_count": 25,
   "metadata": {},
   "outputs": [
    {
     "name": "stdout",
     "output_type": "stream",
     "text": [
      "trained Logistic Regression in 0.14 s\n",
      "trained Decision Tree in 0.84 s\n",
      "trained k-Nearest Neighbors in 0.00 s\n",
      "trained Linear SVM in 3.72 s\n",
      "trained Gradient Boosting Classifier in 2.48 s\n",
      "trained Random Forest in 2.83 s\n",
      "trained RidgeClassifier in 0.03 s\n",
      "trained AdaBoost in 1.36 s\n",
      "trained MNB in 0.00 s\n",
      "trained Perceptron in 0.02 s\n",
      "trained catboost in 267.52 s\n",
      "                      Classifier  Area Under Curve  Training time\n",
      "8                            MNB          0.954552       0.000000\n",
      "6                RidgeClassifier          0.953195       0.031250\n",
      "3                     Linear SVM          0.950041       3.718750\n",
      "0            Logistic Regression          0.944837       0.140625\n",
      "2            k-Nearest Neighbors          0.936037       0.000000\n",
      "9                     Perceptron          0.932971       0.015625\n",
      "5                  Random Forest          0.930510       2.828125\n",
      "10                      catboost          0.921828     267.515625\n",
      "1                  Decision Tree          0.869402       0.843750\n",
      "7                       AdaBoost          0.847756       1.359375\n",
      "4   Gradient Boosting Classifier          0.834093       2.484375\n"
     ]
    }
   ],
   "source": [
    "\n",
    "df_results = batch_classify(X_train_tranformed, y_train,X_test_tranformed, y_test)\n",
    "print(df_results.sort_values(by='Area Under Curve', ascending=False))"
   ]
  },
  {
   "cell_type": "code",
   "execution_count": 26,
   "metadata": {},
   "outputs": [],
   "source": [
    "\n",
    "test_df['cleaned'] = test_df['TweetText'].apply(lambda x : cleaned(x))\n",
    "cleanup_nums = {\"Label\":     {\"Politics\": 0, \"Sports\": 1}}\n",
    "test = test_df.replace(cleanup_nums)"
   ]
  },
  {
   "cell_type": "code",
   "execution_count": 27,
   "metadata": {},
   "outputs": [],
   "source": [
    "x = test_df['cleaned'].to_numpy()\n"
   ]
  },
  {
   "cell_type": "code",
   "execution_count": 28,
   "metadata": {},
   "outputs": [],
   "source": [
    "x_test_tranformed = tweets_pipeline.transform(x)"
   ]
  },
  {
   "cell_type": "code",
   "execution_count": 29,
   "metadata": {},
   "outputs": [
    {
     "data": {
      "text/plain": [
       "array([1, 1, 0, ..., 1, 0, 1], dtype=int64)"
      ]
     },
     "execution_count": 29,
     "metadata": {},
     "output_type": "execute_result"
    }
   ],
   "source": [
    "#predictions\n",
    "Classifier = MultinomialNB()\n",
    "Classifier.fit(X_train_tranformed, y_train)\n",
    "y_predicted = Classifier.predict(x_test_tranformed)\n",
    "y_predicted\n",
    "\n",
    "\n"
   ]
  },
  {
   "cell_type": "code",
   "execution_count": 30,
   "metadata": {},
   "outputs": [
    {
     "data": {
      "text/plain": [
       "0       1\n",
       "1       1\n",
       "2       0\n",
       "3       0\n",
       "4       1\n",
       "       ..\n",
       "2605    1\n",
       "2606    1\n",
       "2607    1\n",
       "2608    0\n",
       "2609    1\n",
       "Name: Label, Length: 2610, dtype: int32"
      ]
     },
     "execution_count": 30,
     "metadata": {},
     "output_type": "execute_result"
    }
   ],
   "source": [
    "test_result = pd.Series(y_predicted, name = \"Label\").astype(int)\n",
    "test_result"
   ]
  },
  {
   "cell_type": "code",
   "execution_count": 31,
   "metadata": {},
   "outputs": [],
   "source": [
    "#import results to a csv file\n",
    "results = pd.concat([test_df[\"TweetId\"], test_result],axis = 1)\n",
    "cleanup_nums = {\"Label\":     {0: \"Politics\", 1: \"Sports\"}}\n",
    "results = results.replace(cleanup_nums)\n",
    "results.to_csv(\"tweet_sub.csv\", index = False)"
   ]
  },
  {
   "cell_type": "code",
   "execution_count": null,
   "metadata": {},
   "outputs": [],
   "source": []
  },
  {
   "cell_type": "code",
   "execution_count": null,
   "metadata": {},
   "outputs": [],
   "source": []
  }
 ],
 "metadata": {
  "kernelspec": {
   "display_name": "Python 3",
   "language": "python",
   "name": "python3"
  },
  "language_info": {
   "codemirror_mode": {
    "name": "ipython",
    "version": 3
   },
   "file_extension": ".py",
   "mimetype": "text/x-python",
   "name": "python",
   "nbconvert_exporter": "python",
   "pygments_lexer": "ipython3",
   "version": "3.8.4"
  }
 },
 "nbformat": 4,
 "nbformat_minor": 4
}
